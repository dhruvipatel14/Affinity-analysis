{
  "nbformat": 4,
  "nbformat_minor": 0,
  "metadata": {
    "colab": {
      "name": "BuyAffinity.ipynb",
      "provenance": [],
      "collapsed_sections": [],
      "include_colab_link": true
    },
    "kernelspec": {
      "name": "python3",
      "display_name": "Python 3"
    }
  },
  "cells": [
    {
      "cell_type": "markdown",
      "metadata": {
        "id": "view-in-github",
        "colab_type": "text"
      },
      "source": [
        "<a href=\"https://colab.research.google.com/github/dhruvipatel14/Affinity-analysis/blob/master/BuyAffinity.ipynb\" target=\"_parent\"><img src=\"https://colab.research.google.com/assets/colab-badge.svg\" alt=\"Open In Colab\"/></a>"
      ]
    },
    {
      "cell_type": "markdown",
      "metadata": {
        "id": "8AylvdBkOQBS",
        "colab_type": "text"
      },
      "source": [
        "Hello, My name is Dhruvi.\n",
        "Here I have given my approch to solve the recommendation system using unlabled data."
      ]
    },
    {
      "cell_type": "markdown",
      "metadata": {
        "id": "BY7AMrCSFALx",
        "colab_type": "text"
      },
      "source": [
        "Importing necessary libraries"
      ]
    },
    {
      "cell_type": "code",
      "metadata": {
        "id": "mFCtYhCULyEz",
        "colab_type": "code",
        "colab": {
          "base_uri": "https://localhost:8080/",
          "height": 74
        },
        "outputId": "78a8ff0a-6741-4423-9cba-186915e2a946"
      },
      "source": [
        "import pandas as pd\n",
        "import numpy as np\n",
        "import seaborn as sns\n",
        "import matplotlib.pyplot as plt\n",
        "from scipy import stats\n",
        "\n",
        "from sklearn.preprocessing import StandardScaler\n",
        "from sklearn.metrics import accuracy_score, classification_report, confusion_matrix\n",
        "from sklearn.model_selection import cross_val_score\n",
        "from sklearn.model_selection import RepeatedStratifiedKFold\n",
        "from sklearn.model_selection import train_test_split\n",
        "sns.set()"
      ],
      "execution_count": 2,
      "outputs": [
        {
          "output_type": "stream",
          "text": [
            "/usr/local/lib/python3.6/dist-packages/statsmodels/tools/_testing.py:19: FutureWarning: pandas.util.testing is deprecated. Use the functions in the public API at pandas.testing instead.\n",
            "  import pandas.util.testing as tm\n"
          ],
          "name": "stderr"
        }
      ]
    },
    {
      "cell_type": "code",
      "metadata": {
        "id": "0CDkZWn6O4j3",
        "colab_type": "code",
        "colab": {
          "base_uri": "https://localhost:8080/",
          "height": 226
        },
        "outputId": "b2e5b9a5-a937-45d6-8bea-d555a6b7ec37"
      },
      "source": [
        "train_data = pd.read_csv('https://raw.githubusercontent.com/dhruvipatel14/Affinity-analysis/master/BuyAffinity_Train.txt',sep = '\\t')\n",
        "train_df = pd.DataFrame(train_data)\n",
        "train_df.head(5)"
      ],
      "execution_count": 3,
      "outputs": [
        {
          "output_type": "execute_result",
          "data": {
            "text/html": [
              "<div>\n",
              "<style scoped>\n",
              "    .dataframe tbody tr th:only-of-type {\n",
              "        vertical-align: middle;\n",
              "    }\n",
              "\n",
              "    .dataframe tbody tr th {\n",
              "        vertical-align: top;\n",
              "    }\n",
              "\n",
              "    .dataframe thead th {\n",
              "        text-align: right;\n",
              "    }\n",
              "</style>\n",
              "<table border=\"1\" class=\"dataframe\">\n",
              "  <thead>\n",
              "    <tr style=\"text-align: right;\">\n",
              "      <th></th>\n",
              "      <th>Index</th>\n",
              "      <th>F1</th>\n",
              "      <th>F2</th>\n",
              "      <th>F3</th>\n",
              "      <th>F4</th>\n",
              "      <th>F5</th>\n",
              "      <th>F6</th>\n",
              "      <th>F7</th>\n",
              "      <th>F8</th>\n",
              "      <th>F9</th>\n",
              "      <th>F10</th>\n",
              "      <th>F11</th>\n",
              "      <th>F12</th>\n",
              "      <th>F13</th>\n",
              "      <th>F14</th>\n",
              "      <th>F15</th>\n",
              "      <th>F16</th>\n",
              "      <th>F17</th>\n",
              "      <th>F18</th>\n",
              "      <th>F19</th>\n",
              "      <th>F20</th>\n",
              "      <th>F21</th>\n",
              "      <th>F22</th>\n",
              "      <th>C</th>\n",
              "    </tr>\n",
              "  </thead>\n",
              "  <tbody>\n",
              "    <tr>\n",
              "      <th>0</th>\n",
              "      <td>1</td>\n",
              "      <td>0.224506</td>\n",
              "      <td>0.500340</td>\n",
              "      <td>0.489860</td>\n",
              "      <td>0.902413</td>\n",
              "      <td>7934</td>\n",
              "      <td>-6970</td>\n",
              "      <td>-5714</td>\n",
              "      <td>9982</td>\n",
              "      <td>-5697</td>\n",
              "      <td>4227810299</td>\n",
              "      <td>-3918676258</td>\n",
              "      <td>316195953</td>\n",
              "      <td>6176861823</td>\n",
              "      <td>-3433637453</td>\n",
              "      <td>10/4/1986</td>\n",
              "      <td>9/6/1992</td>\n",
              "      <td>2</td>\n",
              "      <td>1</td>\n",
              "      <td>706</td>\n",
              "      <td>305</td>\n",
              "      <td>1</td>\n",
              "      <td>2</td>\n",
              "      <td>0</td>\n",
              "    </tr>\n",
              "    <tr>\n",
              "      <th>1</th>\n",
              "      <td>2</td>\n",
              "      <td>0.321128</td>\n",
              "      <td>0.281119</td>\n",
              "      <td>0.907283</td>\n",
              "      <td>0.772159</td>\n",
              "      <td>-8238</td>\n",
              "      <td>1219</td>\n",
              "      <td>1663</td>\n",
              "      <td>1287</td>\n",
              "      <td>-3658</td>\n",
              "      <td>-1146724819</td>\n",
              "      <td>-6837090439</td>\n",
              "      <td>1378635942</td>\n",
              "      <td>-9031507610</td>\n",
              "      <td>609277486</td>\n",
              "      <td>2/24/1979</td>\n",
              "      <td>1/5/1983</td>\n",
              "      <td>1</td>\n",
              "      <td>1</td>\n",
              "      <td>423</td>\n",
              "      <td>206</td>\n",
              "      <td>18</td>\n",
              "      <td>7</td>\n",
              "      <td>1</td>\n",
              "    </tr>\n",
              "    <tr>\n",
              "      <th>2</th>\n",
              "      <td>3</td>\n",
              "      <td>0.893441</td>\n",
              "      <td>0.622005</td>\n",
              "      <td>0.998776</td>\n",
              "      <td>0.098386</td>\n",
              "      <td>8540</td>\n",
              "      <td>5266</td>\n",
              "      <td>-9377</td>\n",
              "      <td>-3504</td>\n",
              "      <td>-4511</td>\n",
              "      <td>5947184989</td>\n",
              "      <td>6881163164</td>\n",
              "      <td>-9921889287</td>\n",
              "      <td>-5610051842</td>\n",
              "      <td>-8977995005</td>\n",
              "      <td>1/12/1989</td>\n",
              "      <td>11/22/1986</td>\n",
              "      <td>2</td>\n",
              "      <td>1</td>\n",
              "      <td>703</td>\n",
              "      <td>315</td>\n",
              "      <td>1</td>\n",
              "      <td>4</td>\n",
              "      <td>0</td>\n",
              "    </tr>\n",
              "    <tr>\n",
              "      <th>3</th>\n",
              "      <td>4</td>\n",
              "      <td>0.320641</td>\n",
              "      <td>0.957234</td>\n",
              "      <td>0.346000</td>\n",
              "      <td>0.646479</td>\n",
              "      <td>-7772</td>\n",
              "      <td>-383</td>\n",
              "      <td>9681</td>\n",
              "      <td>-8661</td>\n",
              "      <td>3474</td>\n",
              "      <td>-5724795826</td>\n",
              "      <td>-6014104498</td>\n",
              "      <td>6550322883</td>\n",
              "      <td>-4697085930</td>\n",
              "      <td>4868760308</td>\n",
              "      <td>2/18/1982</td>\n",
              "      <td>6/10/1992</td>\n",
              "      <td>1</td>\n",
              "      <td>1</td>\n",
              "      <td>122</td>\n",
              "      <td>304</td>\n",
              "      <td>15</td>\n",
              "      <td>1</td>\n",
              "      <td>0</td>\n",
              "    </tr>\n",
              "    <tr>\n",
              "      <th>4</th>\n",
              "      <td>5</td>\n",
              "      <td>0.475961</td>\n",
              "      <td>0.623008</td>\n",
              "      <td>0.544988</td>\n",
              "      <td>0.159709</td>\n",
              "      <td>1571</td>\n",
              "      <td>-8039</td>\n",
              "      <td>-7961</td>\n",
              "      <td>-2385</td>\n",
              "      <td>4407</td>\n",
              "      <td>-3097637172</td>\n",
              "      <td>-9755731483</td>\n",
              "      <td>759031103</td>\n",
              "      <td>9984692447</td>\n",
              "      <td>9757408267</td>\n",
              "      <td>4/10/1987</td>\n",
              "      <td>10/19/1985</td>\n",
              "      <td>1</td>\n",
              "      <td>1</td>\n",
              "      <td>486</td>\n",
              "      <td>240</td>\n",
              "      <td>1</td>\n",
              "      <td>1</td>\n",
              "      <td>0</td>\n",
              "    </tr>\n",
              "  </tbody>\n",
              "</table>\n",
              "</div>"
            ],
            "text/plain": [
              "   Index        F1        F2        F3        F4  ...  F19  F20  F21  F22  C\n",
              "0      1  0.224506  0.500340  0.489860  0.902413  ...  706  305    1    2  0\n",
              "1      2  0.321128  0.281119  0.907283  0.772159  ...  423  206   18    7  1\n",
              "2      3  0.893441  0.622005  0.998776  0.098386  ...  703  315    1    4  0\n",
              "3      4  0.320641  0.957234  0.346000  0.646479  ...  122  304   15    1  0\n",
              "4      5  0.475961  0.623008  0.544988  0.159709  ...  486  240    1    1  0\n",
              "\n",
              "[5 rows x 24 columns]"
            ]
          },
          "metadata": {
            "tags": []
          },
          "execution_count": 3
        }
      ]
    },
    {
      "cell_type": "code",
      "metadata": {
        "id": "22anThrkL-bI",
        "colab_type": "code",
        "colab": {
          "base_uri": "https://localhost:8080/",
          "height": 226
        },
        "outputId": "16a35749-d74f-41f3-b4dd-ecdc0d39cf75"
      },
      "source": [
        "test_data = pd.read_csv('https://raw.githubusercontent.com/dhruvipatel14/Affinity-analysis/master/BuyAffinity_Test.txt',sep = '\\t')\n",
        "test_df = pd.DataFrame(test_data)\n",
        "test_df.head(5)"
      ],
      "execution_count": 4,
      "outputs": [
        {
          "output_type": "execute_result",
          "data": {
            "text/html": [
              "<div>\n",
              "<style scoped>\n",
              "    .dataframe tbody tr th:only-of-type {\n",
              "        vertical-align: middle;\n",
              "    }\n",
              "\n",
              "    .dataframe tbody tr th {\n",
              "        vertical-align: top;\n",
              "    }\n",
              "\n",
              "    .dataframe thead th {\n",
              "        text-align: right;\n",
              "    }\n",
              "</style>\n",
              "<table border=\"1\" class=\"dataframe\">\n",
              "  <thead>\n",
              "    <tr style=\"text-align: right;\">\n",
              "      <th></th>\n",
              "      <th>Index</th>\n",
              "      <th>F1</th>\n",
              "      <th>F2</th>\n",
              "      <th>F3</th>\n",
              "      <th>F4</th>\n",
              "      <th>F5</th>\n",
              "      <th>F6</th>\n",
              "      <th>F7</th>\n",
              "      <th>F8</th>\n",
              "      <th>F9</th>\n",
              "      <th>F10</th>\n",
              "      <th>F11</th>\n",
              "      <th>F12</th>\n",
              "      <th>F13</th>\n",
              "      <th>F14</th>\n",
              "      <th>F15</th>\n",
              "      <th>F16</th>\n",
              "      <th>F17</th>\n",
              "      <th>F18</th>\n",
              "      <th>F19</th>\n",
              "      <th>F20</th>\n",
              "      <th>F21</th>\n",
              "      <th>F22</th>\n",
              "    </tr>\n",
              "  </thead>\n",
              "  <tbody>\n",
              "    <tr>\n",
              "      <th>0</th>\n",
              "      <td>T30234341</td>\n",
              "      <td>0.654765</td>\n",
              "      <td>0.812009</td>\n",
              "      <td>0.603190</td>\n",
              "      <td>0.391039</td>\n",
              "      <td>-5220</td>\n",
              "      <td>4825</td>\n",
              "      <td>-1784</td>\n",
              "      <td>7447</td>\n",
              "      <td>-7147</td>\n",
              "      <td>-3461806391</td>\n",
              "      <td>8178108368</td>\n",
              "      <td>-8674321652</td>\n",
              "      <td>8074343777</td>\n",
              "      <td>5553595074</td>\n",
              "      <td>9/17/1996</td>\n",
              "      <td>8/18/1990</td>\n",
              "      <td>1</td>\n",
              "      <td>1</td>\n",
              "      <td>436</td>\n",
              "      <td>478</td>\n",
              "      <td>1</td>\n",
              "      <td>1</td>\n",
              "    </tr>\n",
              "    <tr>\n",
              "      <th>1</th>\n",
              "      <td>T30234342</td>\n",
              "      <td>0.694636</td>\n",
              "      <td>0.690568</td>\n",
              "      <td>0.473460</td>\n",
              "      <td>0.259760</td>\n",
              "      <td>-618</td>\n",
              "      <td>-5018</td>\n",
              "      <td>2012</td>\n",
              "      <td>9259</td>\n",
              "      <td>9267</td>\n",
              "      <td>-36253473</td>\n",
              "      <td>-6531193961</td>\n",
              "      <td>1849753082</td>\n",
              "      <td>-5556861821</td>\n",
              "      <td>2216284070</td>\n",
              "      <td>11/7/1985</td>\n",
              "      <td>4/11/1990</td>\n",
              "      <td>1</td>\n",
              "      <td>1</td>\n",
              "      <td>138</td>\n",
              "      <td>56</td>\n",
              "      <td>10</td>\n",
              "      <td>4</td>\n",
              "    </tr>\n",
              "    <tr>\n",
              "      <th>2</th>\n",
              "      <td>T30234343</td>\n",
              "      <td>0.203759</td>\n",
              "      <td>0.323301</td>\n",
              "      <td>0.492294</td>\n",
              "      <td>0.011448</td>\n",
              "      <td>-8778</td>\n",
              "      <td>6141</td>\n",
              "      <td>6965</td>\n",
              "      <td>3774</td>\n",
              "      <td>4303</td>\n",
              "      <td>5354243488</td>\n",
              "      <td>8053401796</td>\n",
              "      <td>782597920</td>\n",
              "      <td>-2121815725</td>\n",
              "      <td>-315409510</td>\n",
              "      <td>7/9/1984</td>\n",
              "      <td>5/4/1997</td>\n",
              "      <td>1</td>\n",
              "      <td>1</td>\n",
              "      <td>117</td>\n",
              "      <td>323</td>\n",
              "      <td>10</td>\n",
              "      <td>1</td>\n",
              "    </tr>\n",
              "    <tr>\n",
              "      <th>3</th>\n",
              "      <td>T30234344</td>\n",
              "      <td>0.319627</td>\n",
              "      <td>0.286247</td>\n",
              "      <td>0.906197</td>\n",
              "      <td>0.093840</td>\n",
              "      <td>-7929</td>\n",
              "      <td>4471</td>\n",
              "      <td>7715</td>\n",
              "      <td>9543</td>\n",
              "      <td>335</td>\n",
              "      <td>7405036171</td>\n",
              "      <td>-2666864618</td>\n",
              "      <td>-8649240595</td>\n",
              "      <td>1389754605</td>\n",
              "      <td>-3360224957</td>\n",
              "      <td>6/3/1987</td>\n",
              "      <td>7/1/1988</td>\n",
              "      <td>1</td>\n",
              "      <td>1</td>\n",
              "      <td>115</td>\n",
              "      <td>149</td>\n",
              "      <td>16</td>\n",
              "      <td>21</td>\n",
              "    </tr>\n",
              "    <tr>\n",
              "      <th>4</th>\n",
              "      <td>T30234345</td>\n",
              "      <td>0.236003</td>\n",
              "      <td>0.782784</td>\n",
              "      <td>0.285689</td>\n",
              "      <td>0.383585</td>\n",
              "      <td>-3296</td>\n",
              "      <td>4564</td>\n",
              "      <td>-1580</td>\n",
              "      <td>-8559</td>\n",
              "      <td>-27</td>\n",
              "      <td>-6351599280</td>\n",
              "      <td>-2152422738</td>\n",
              "      <td>4768902493</td>\n",
              "      <td>3653338555</td>\n",
              "      <td>7604838279</td>\n",
              "      <td>7/17/1984</td>\n",
              "      <td>12/3/1993</td>\n",
              "      <td>1</td>\n",
              "      <td>1</td>\n",
              "      <td>527</td>\n",
              "      <td>281</td>\n",
              "      <td>3</td>\n",
              "      <td>1</td>\n",
              "    </tr>\n",
              "  </tbody>\n",
              "</table>\n",
              "</div>"
            ],
            "text/plain": [
              "       Index        F1        F2        F3        F4  ...  F18  F19  F20  F21  F22\n",
              "0  T30234341  0.654765  0.812009  0.603190  0.391039  ...    1  436  478    1    1\n",
              "1  T30234342  0.694636  0.690568  0.473460  0.259760  ...    1  138   56   10    4\n",
              "2  T30234343  0.203759  0.323301  0.492294  0.011448  ...    1  117  323   10    1\n",
              "3  T30234344  0.319627  0.286247  0.906197  0.093840  ...    1  115  149   16   21\n",
              "4  T30234345  0.236003  0.782784  0.285689  0.383585  ...    1  527  281    3    1\n",
              "\n",
              "[5 rows x 23 columns]"
            ]
          },
          "metadata": {
            "tags": []
          },
          "execution_count": 4
        }
      ]
    },
    {
      "cell_type": "markdown",
      "metadata": {
        "id": "lGycF_q_FIP0",
        "colab_type": "text"
      },
      "source": [
        "Getting insights about size and datatypes of features"
      ]
    },
    {
      "cell_type": "code",
      "metadata": {
        "id": "D-DR6NEfZAdS",
        "colab_type": "code",
        "colab": {
          "base_uri": "https://localhost:8080/",
          "height": 54
        },
        "outputId": "c4d10f14-d80e-463f-e03c-dd8abc4d29a7"
      },
      "source": [
        "print(train_df.shape)\n",
        "print(test_df.shape)"
      ],
      "execution_count": 5,
      "outputs": [
        {
          "output_type": "stream",
          "text": [
            "(101180, 24)\n",
            "(19913, 23)\n"
          ],
          "name": "stdout"
        }
      ]
    },
    {
      "cell_type": "code",
      "metadata": {
        "id": "r5ENU9zWOUwi",
        "colab_type": "code",
        "colab": {
          "base_uri": "https://localhost:8080/",
          "height": 482
        },
        "outputId": "c546dff2-3f76-4055-fbc6-281bffe8304b"
      },
      "source": [
        "train_df.dtypes"
      ],
      "execution_count": 6,
      "outputs": [
        {
          "output_type": "execute_result",
          "data": {
            "text/plain": [
              "Index      int64\n",
              "F1       float64\n",
              "F2       float64\n",
              "F3       float64\n",
              "F4       float64\n",
              "F5         int64\n",
              "F6         int64\n",
              "F7         int64\n",
              "F8         int64\n",
              "F9         int64\n",
              "F10        int64\n",
              "F11        int64\n",
              "F12        int64\n",
              "F13        int64\n",
              "F14        int64\n",
              "F15       object\n",
              "F16       object\n",
              "F17        int64\n",
              "F18        int64\n",
              "F19        int64\n",
              "F20        int64\n",
              "F21        int64\n",
              "F22        int64\n",
              "C          int64\n",
              "dtype: object"
            ]
          },
          "metadata": {
            "tags": []
          },
          "execution_count": 6
        }
      ]
    },
    {
      "cell_type": "code",
      "metadata": {
        "id": "O1A_atzk-RiY",
        "colab_type": "code",
        "colab": {}
      },
      "source": [
        "pd.set_option('display.float_format', lambda x: '%.3f' % x)"
      ],
      "execution_count": 7,
      "outputs": []
    },
    {
      "cell_type": "markdown",
      "metadata": {
        "id": "c9ZTp154FT4u",
        "colab_type": "text"
      },
      "source": [
        "Detailed statistical discription about train data and test data"
      ]
    },
    {
      "cell_type": "code",
      "metadata": {
        "id": "oRGbQB-NXhru",
        "colab_type": "code",
        "colab": {
          "base_uri": "https://localhost:8080/",
          "height": 739
        },
        "outputId": "5c563690-365f-40dc-bf92-b6f9afbfd761"
      },
      "source": [
        "train_df.describe(exclude='object').T"
      ],
      "execution_count": 8,
      "outputs": [
        {
          "output_type": "execute_result",
          "data": {
            "text/html": [
              "<div>\n",
              "<style scoped>\n",
              "    .dataframe tbody tr th:only-of-type {\n",
              "        vertical-align: middle;\n",
              "    }\n",
              "\n",
              "    .dataframe tbody tr th {\n",
              "        vertical-align: top;\n",
              "    }\n",
              "\n",
              "    .dataframe thead th {\n",
              "        text-align: right;\n",
              "    }\n",
              "</style>\n",
              "<table border=\"1\" class=\"dataframe\">\n",
              "  <thead>\n",
              "    <tr style=\"text-align: right;\">\n",
              "      <th></th>\n",
              "      <th>count</th>\n",
              "      <th>mean</th>\n",
              "      <th>std</th>\n",
              "      <th>min</th>\n",
              "      <th>25%</th>\n",
              "      <th>50%</th>\n",
              "      <th>75%</th>\n",
              "      <th>max</th>\n",
              "    </tr>\n",
              "  </thead>\n",
              "  <tbody>\n",
              "    <tr>\n",
              "      <th>Index</th>\n",
              "      <td>101180.000</td>\n",
              "      <td>50590.500</td>\n",
              "      <td>29208.294</td>\n",
              "      <td>1.000</td>\n",
              "      <td>25295.750</td>\n",
              "      <td>50590.500</td>\n",
              "      <td>75885.250</td>\n",
              "      <td>101180.000</td>\n",
              "    </tr>\n",
              "    <tr>\n",
              "      <th>F1</th>\n",
              "      <td>101180.000</td>\n",
              "      <td>0.502</td>\n",
              "      <td>0.288</td>\n",
              "      <td>0.000</td>\n",
              "      <td>0.254</td>\n",
              "      <td>0.502</td>\n",
              "      <td>0.754</td>\n",
              "      <td>1.000</td>\n",
              "    </tr>\n",
              "    <tr>\n",
              "      <th>F2</th>\n",
              "      <td>101180.000</td>\n",
              "      <td>0.501</td>\n",
              "      <td>0.289</td>\n",
              "      <td>0.000</td>\n",
              "      <td>0.251</td>\n",
              "      <td>0.501</td>\n",
              "      <td>0.752</td>\n",
              "      <td>1.000</td>\n",
              "    </tr>\n",
              "    <tr>\n",
              "      <th>F3</th>\n",
              "      <td>101180.000</td>\n",
              "      <td>0.500</td>\n",
              "      <td>0.289</td>\n",
              "      <td>0.000</td>\n",
              "      <td>0.249</td>\n",
              "      <td>0.500</td>\n",
              "      <td>0.750</td>\n",
              "      <td>1.000</td>\n",
              "    </tr>\n",
              "    <tr>\n",
              "      <th>F4</th>\n",
              "      <td>101180.000</td>\n",
              "      <td>0.500</td>\n",
              "      <td>0.289</td>\n",
              "      <td>0.000</td>\n",
              "      <td>0.251</td>\n",
              "      <td>0.501</td>\n",
              "      <td>0.749</td>\n",
              "      <td>1.000</td>\n",
              "    </tr>\n",
              "    <tr>\n",
              "      <th>F5</th>\n",
              "      <td>101180.000</td>\n",
              "      <td>-29.743</td>\n",
              "      <td>5781.829</td>\n",
              "      <td>-10000.000</td>\n",
              "      <td>-5045.000</td>\n",
              "      <td>-46.000</td>\n",
              "      <td>4978.000</td>\n",
              "      <td>10000.000</td>\n",
              "    </tr>\n",
              "    <tr>\n",
              "      <th>F6</th>\n",
              "      <td>101180.000</td>\n",
              "      <td>1.511</td>\n",
              "      <td>5796.594</td>\n",
              "      <td>-10000.000</td>\n",
              "      <td>-5012.000</td>\n",
              "      <td>-11.500</td>\n",
              "      <td>5050.000</td>\n",
              "      <td>10000.000</td>\n",
              "    </tr>\n",
              "    <tr>\n",
              "      <th>F7</th>\n",
              "      <td>101180.000</td>\n",
              "      <td>7.939</td>\n",
              "      <td>5765.582</td>\n",
              "      <td>-10000.000</td>\n",
              "      <td>-4979.000</td>\n",
              "      <td>16.500</td>\n",
              "      <td>4962.000</td>\n",
              "      <td>10000.000</td>\n",
              "    </tr>\n",
              "    <tr>\n",
              "      <th>F8</th>\n",
              "      <td>101180.000</td>\n",
              "      <td>16.434</td>\n",
              "      <td>5782.805</td>\n",
              "      <td>-10000.000</td>\n",
              "      <td>-4988.000</td>\n",
              "      <td>60.000</td>\n",
              "      <td>5021.000</td>\n",
              "      <td>10000.000</td>\n",
              "    </tr>\n",
              "    <tr>\n",
              "      <th>F9</th>\n",
              "      <td>101180.000</td>\n",
              "      <td>9.928</td>\n",
              "      <td>5771.005</td>\n",
              "      <td>-10000.000</td>\n",
              "      <td>-4992.250</td>\n",
              "      <td>22.500</td>\n",
              "      <td>5020.000</td>\n",
              "      <td>10000.000</td>\n",
              "    </tr>\n",
              "    <tr>\n",
              "      <th>F10</th>\n",
              "      <td>101180.000</td>\n",
              "      <td>18697488.060</td>\n",
              "      <td>5769064036.500</td>\n",
              "      <td>-9999815888.000</td>\n",
              "      <td>-4966961427.000</td>\n",
              "      <td>43466910.000</td>\n",
              "      <td>5019440188.000</td>\n",
              "      <td>9999496706.000</td>\n",
              "    </tr>\n",
              "    <tr>\n",
              "      <th>F11</th>\n",
              "      <td>101180.000</td>\n",
              "      <td>-7052455.980</td>\n",
              "      <td>5779110521.826</td>\n",
              "      <td>-9999804263.000</td>\n",
              "      <td>-4994511148.000</td>\n",
              "      <td>-54771720.000</td>\n",
              "      <td>4994295621.500</td>\n",
              "      <td>9999897293.000</td>\n",
              "    </tr>\n",
              "    <tr>\n",
              "      <th>F12</th>\n",
              "      <td>101180.000</td>\n",
              "      <td>6921684.716</td>\n",
              "      <td>5771750120.121</td>\n",
              "      <td>-9999754381.000</td>\n",
              "      <td>-4991277952.750</td>\n",
              "      <td>42773842.000</td>\n",
              "      <td>5008238007.500</td>\n",
              "      <td>9999554581.000</td>\n",
              "    </tr>\n",
              "    <tr>\n",
              "      <th>F13</th>\n",
              "      <td>101180.000</td>\n",
              "      <td>11275376.239</td>\n",
              "      <td>5786658804.920</td>\n",
              "      <td>-9999852207.000</td>\n",
              "      <td>-5027003394.750</td>\n",
              "      <td>9416236.500</td>\n",
              "      <td>5032946724.750</td>\n",
              "      <td>9999951230.000</td>\n",
              "    </tr>\n",
              "    <tr>\n",
              "      <th>F14</th>\n",
              "      <td>101180.000</td>\n",
              "      <td>-51981631.310</td>\n",
              "      <td>5782357630.326</td>\n",
              "      <td>-9999766743.000</td>\n",
              "      <td>-5070403354.750</td>\n",
              "      <td>-88161743.000</td>\n",
              "      <td>4947133269.750</td>\n",
              "      <td>9999997277.000</td>\n",
              "    </tr>\n",
              "    <tr>\n",
              "      <th>F17</th>\n",
              "      <td>101180.000</td>\n",
              "      <td>1.340</td>\n",
              "      <td>0.894</td>\n",
              "      <td>1.000</td>\n",
              "      <td>1.000</td>\n",
              "      <td>1.000</td>\n",
              "      <td>1.000</td>\n",
              "      <td>6.000</td>\n",
              "    </tr>\n",
              "    <tr>\n",
              "      <th>F18</th>\n",
              "      <td>101180.000</td>\n",
              "      <td>1.335</td>\n",
              "      <td>0.882</td>\n",
              "      <td>1.000</td>\n",
              "      <td>1.000</td>\n",
              "      <td>1.000</td>\n",
              "      <td>1.000</td>\n",
              "      <td>6.000</td>\n",
              "    </tr>\n",
              "    <tr>\n",
              "      <th>F19</th>\n",
              "      <td>101180.000</td>\n",
              "      <td>387.181</td>\n",
              "      <td>235.940</td>\n",
              "      <td>1.000</td>\n",
              "      <td>187.000</td>\n",
              "      <td>374.000</td>\n",
              "      <td>560.000</td>\n",
              "      <td>901.000</td>\n",
              "    </tr>\n",
              "    <tr>\n",
              "      <th>F20</th>\n",
              "      <td>101180.000</td>\n",
              "      <td>387.334</td>\n",
              "      <td>235.374</td>\n",
              "      <td>1.000</td>\n",
              "      <td>187.000</td>\n",
              "      <td>375.000</td>\n",
              "      <td>561.000</td>\n",
              "      <td>901.000</td>\n",
              "    </tr>\n",
              "    <tr>\n",
              "      <th>F21</th>\n",
              "      <td>101180.000</td>\n",
              "      <td>4.588</td>\n",
              "      <td>4.776</td>\n",
              "      <td>1.000</td>\n",
              "      <td>1.000</td>\n",
              "      <td>3.000</td>\n",
              "      <td>7.000</td>\n",
              "      <td>21.000</td>\n",
              "    </tr>\n",
              "    <tr>\n",
              "      <th>F22</th>\n",
              "      <td>101180.000</td>\n",
              "      <td>4.599</td>\n",
              "      <td>4.776</td>\n",
              "      <td>1.000</td>\n",
              "      <td>1.000</td>\n",
              "      <td>3.000</td>\n",
              "      <td>7.000</td>\n",
              "      <td>21.000</td>\n",
              "    </tr>\n",
              "    <tr>\n",
              "      <th>C</th>\n",
              "      <td>101180.000</td>\n",
              "      <td>0.245</td>\n",
              "      <td>0.430</td>\n",
              "      <td>0.000</td>\n",
              "      <td>0.000</td>\n",
              "      <td>0.000</td>\n",
              "      <td>0.000</td>\n",
              "      <td>1.000</td>\n",
              "    </tr>\n",
              "  </tbody>\n",
              "</table>\n",
              "</div>"
            ],
            "text/plain": [
              "           count          mean  ...            75%            max\n",
              "Index 101180.000     50590.500  ...      75885.250     101180.000\n",
              "F1    101180.000         0.502  ...          0.754          1.000\n",
              "F2    101180.000         0.501  ...          0.752          1.000\n",
              "F3    101180.000         0.500  ...          0.750          1.000\n",
              "F4    101180.000         0.500  ...          0.749          1.000\n",
              "F5    101180.000       -29.743  ...       4978.000      10000.000\n",
              "F6    101180.000         1.511  ...       5050.000      10000.000\n",
              "F7    101180.000         7.939  ...       4962.000      10000.000\n",
              "F8    101180.000        16.434  ...       5021.000      10000.000\n",
              "F9    101180.000         9.928  ...       5020.000      10000.000\n",
              "F10   101180.000  18697488.060  ... 5019440188.000 9999496706.000\n",
              "F11   101180.000  -7052455.980  ... 4994295621.500 9999897293.000\n",
              "F12   101180.000   6921684.716  ... 5008238007.500 9999554581.000\n",
              "F13   101180.000  11275376.239  ... 5032946724.750 9999951230.000\n",
              "F14   101180.000 -51981631.310  ... 4947133269.750 9999997277.000\n",
              "F17   101180.000         1.340  ...          1.000          6.000\n",
              "F18   101180.000         1.335  ...          1.000          6.000\n",
              "F19   101180.000       387.181  ...        560.000        901.000\n",
              "F20   101180.000       387.334  ...        561.000        901.000\n",
              "F21   101180.000         4.588  ...          7.000         21.000\n",
              "F22   101180.000         4.599  ...          7.000         21.000\n",
              "C     101180.000         0.245  ...          0.000          1.000\n",
              "\n",
              "[22 rows x 8 columns]"
            ]
          },
          "metadata": {
            "tags": []
          },
          "execution_count": 8
        }
      ]
    },
    {
      "cell_type": "code",
      "metadata": {
        "id": "Z6Trqyr5Jt2q",
        "colab_type": "code",
        "colab": {
          "base_uri": "https://localhost:8080/",
          "height": 677
        },
        "outputId": "ffe0bf3d-c930-45b8-9008-10e23d4b5700"
      },
      "source": [
        "test_df.describe(exclude='object').T"
      ],
      "execution_count": 9,
      "outputs": [
        {
          "output_type": "execute_result",
          "data": {
            "text/html": [
              "<div>\n",
              "<style scoped>\n",
              "    .dataframe tbody tr th:only-of-type {\n",
              "        vertical-align: middle;\n",
              "    }\n",
              "\n",
              "    .dataframe tbody tr th {\n",
              "        vertical-align: top;\n",
              "    }\n",
              "\n",
              "    .dataframe thead th {\n",
              "        text-align: right;\n",
              "    }\n",
              "</style>\n",
              "<table border=\"1\" class=\"dataframe\">\n",
              "  <thead>\n",
              "    <tr style=\"text-align: right;\">\n",
              "      <th></th>\n",
              "      <th>count</th>\n",
              "      <th>mean</th>\n",
              "      <th>std</th>\n",
              "      <th>min</th>\n",
              "      <th>25%</th>\n",
              "      <th>50%</th>\n",
              "      <th>75%</th>\n",
              "      <th>max</th>\n",
              "    </tr>\n",
              "  </thead>\n",
              "  <tbody>\n",
              "    <tr>\n",
              "      <th>F1</th>\n",
              "      <td>19913.000</td>\n",
              "      <td>0.500</td>\n",
              "      <td>0.287</td>\n",
              "      <td>0.000</td>\n",
              "      <td>0.251</td>\n",
              "      <td>0.499</td>\n",
              "      <td>0.749</td>\n",
              "      <td>1.000</td>\n",
              "    </tr>\n",
              "    <tr>\n",
              "      <th>F2</th>\n",
              "      <td>19913.000</td>\n",
              "      <td>0.501</td>\n",
              "      <td>0.288</td>\n",
              "      <td>0.000</td>\n",
              "      <td>0.252</td>\n",
              "      <td>0.500</td>\n",
              "      <td>0.752</td>\n",
              "      <td>1.000</td>\n",
              "    </tr>\n",
              "    <tr>\n",
              "      <th>F3</th>\n",
              "      <td>19913.000</td>\n",
              "      <td>0.499</td>\n",
              "      <td>0.289</td>\n",
              "      <td>0.000</td>\n",
              "      <td>0.248</td>\n",
              "      <td>0.498</td>\n",
              "      <td>0.750</td>\n",
              "      <td>1.000</td>\n",
              "    </tr>\n",
              "    <tr>\n",
              "      <th>F4</th>\n",
              "      <td>19913.000</td>\n",
              "      <td>0.499</td>\n",
              "      <td>0.288</td>\n",
              "      <td>0.000</td>\n",
              "      <td>0.250</td>\n",
              "      <td>0.498</td>\n",
              "      <td>0.749</td>\n",
              "      <td>1.000</td>\n",
              "    </tr>\n",
              "    <tr>\n",
              "      <th>F5</th>\n",
              "      <td>19913.000</td>\n",
              "      <td>15.012</td>\n",
              "      <td>5779.233</td>\n",
              "      <td>-10000.000</td>\n",
              "      <td>-5006.000</td>\n",
              "      <td>32.000</td>\n",
              "      <td>5014.000</td>\n",
              "      <td>10000.000</td>\n",
              "    </tr>\n",
              "    <tr>\n",
              "      <th>F6</th>\n",
              "      <td>19913.000</td>\n",
              "      <td>-71.674</td>\n",
              "      <td>5750.864</td>\n",
              "      <td>-10000.000</td>\n",
              "      <td>-5041.000</td>\n",
              "      <td>-5.000</td>\n",
              "      <td>4861.000</td>\n",
              "      <td>9999.000</td>\n",
              "    </tr>\n",
              "    <tr>\n",
              "      <th>F7</th>\n",
              "      <td>19913.000</td>\n",
              "      <td>2.344</td>\n",
              "      <td>5769.980</td>\n",
              "      <td>-9999.000</td>\n",
              "      <td>-4941.000</td>\n",
              "      <td>-39.000</td>\n",
              "      <td>5019.000</td>\n",
              "      <td>10000.000</td>\n",
              "    </tr>\n",
              "    <tr>\n",
              "      <th>F8</th>\n",
              "      <td>19913.000</td>\n",
              "      <td>11.676</td>\n",
              "      <td>5788.046</td>\n",
              "      <td>-10000.000</td>\n",
              "      <td>-4967.000</td>\n",
              "      <td>-7.000</td>\n",
              "      <td>5027.000</td>\n",
              "      <td>9999.000</td>\n",
              "    </tr>\n",
              "    <tr>\n",
              "      <th>F9</th>\n",
              "      <td>19913.000</td>\n",
              "      <td>60.424</td>\n",
              "      <td>5769.787</td>\n",
              "      <td>-10000.000</td>\n",
              "      <td>-4929.000</td>\n",
              "      <td>15.000</td>\n",
              "      <td>5118.000</td>\n",
              "      <td>10000.000</td>\n",
              "    </tr>\n",
              "    <tr>\n",
              "      <th>F10</th>\n",
              "      <td>19913.000</td>\n",
              "      <td>-26420967.496</td>\n",
              "      <td>5781200515.120</td>\n",
              "      <td>-9999557651.000</td>\n",
              "      <td>-5074429893.000</td>\n",
              "      <td>-93618563.000</td>\n",
              "      <td>4980296014.000</td>\n",
              "      <td>9998904094.000</td>\n",
              "    </tr>\n",
              "    <tr>\n",
              "      <th>F11</th>\n",
              "      <td>19913.000</td>\n",
              "      <td>23946612.912</td>\n",
              "      <td>5767820519.064</td>\n",
              "      <td>-9998929261.000</td>\n",
              "      <td>-4943452213.000</td>\n",
              "      <td>5517004.000</td>\n",
              "      <td>5013506717.000</td>\n",
              "      <td>9999910943.000</td>\n",
              "    </tr>\n",
              "    <tr>\n",
              "      <th>F12</th>\n",
              "      <td>19913.000</td>\n",
              "      <td>-46864946.505</td>\n",
              "      <td>5773837272.217</td>\n",
              "      <td>-9999530970.000</td>\n",
              "      <td>-5035223893.000</td>\n",
              "      <td>-112350161.000</td>\n",
              "      <td>4952060766.000</td>\n",
              "      <td>9999915460.000</td>\n",
              "    </tr>\n",
              "    <tr>\n",
              "      <th>F13</th>\n",
              "      <td>19913.000</td>\n",
              "      <td>-10336435.339</td>\n",
              "      <td>5757750965.826</td>\n",
              "      <td>-9997782714.000</td>\n",
              "      <td>-5026790410.000</td>\n",
              "      <td>70968333.000</td>\n",
              "      <td>4923297841.000</td>\n",
              "      <td>9999625519.000</td>\n",
              "    </tr>\n",
              "    <tr>\n",
              "      <th>F14</th>\n",
              "      <td>19913.000</td>\n",
              "      <td>1763265.074</td>\n",
              "      <td>5725640647.735</td>\n",
              "      <td>-9999498803.000</td>\n",
              "      <td>-4951252986.000</td>\n",
              "      <td>-76245112.000</td>\n",
              "      <td>4989646928.000</td>\n",
              "      <td>9999739030.000</td>\n",
              "    </tr>\n",
              "    <tr>\n",
              "      <th>F17</th>\n",
              "      <td>19913.000</td>\n",
              "      <td>1.346</td>\n",
              "      <td>0.910</td>\n",
              "      <td>1.000</td>\n",
              "      <td>1.000</td>\n",
              "      <td>1.000</td>\n",
              "      <td>1.000</td>\n",
              "      <td>6.000</td>\n",
              "    </tr>\n",
              "    <tr>\n",
              "      <th>F18</th>\n",
              "      <td>19913.000</td>\n",
              "      <td>1.336</td>\n",
              "      <td>0.883</td>\n",
              "      <td>1.000</td>\n",
              "      <td>1.000</td>\n",
              "      <td>1.000</td>\n",
              "      <td>1.000</td>\n",
              "      <td>6.000</td>\n",
              "    </tr>\n",
              "    <tr>\n",
              "      <th>F19</th>\n",
              "      <td>19913.000</td>\n",
              "      <td>389.011</td>\n",
              "      <td>236.127</td>\n",
              "      <td>1.000</td>\n",
              "      <td>192.000</td>\n",
              "      <td>375.000</td>\n",
              "      <td>561.000</td>\n",
              "      <td>901.000</td>\n",
              "    </tr>\n",
              "    <tr>\n",
              "      <th>F20</th>\n",
              "      <td>19913.000</td>\n",
              "      <td>385.611</td>\n",
              "      <td>236.016</td>\n",
              "      <td>1.000</td>\n",
              "      <td>186.000</td>\n",
              "      <td>370.000</td>\n",
              "      <td>559.000</td>\n",
              "      <td>901.000</td>\n",
              "    </tr>\n",
              "    <tr>\n",
              "      <th>F21</th>\n",
              "      <td>19913.000</td>\n",
              "      <td>4.636</td>\n",
              "      <td>4.780</td>\n",
              "      <td>1.000</td>\n",
              "      <td>1.000</td>\n",
              "      <td>3.000</td>\n",
              "      <td>7.000</td>\n",
              "      <td>21.000</td>\n",
              "    </tr>\n",
              "    <tr>\n",
              "      <th>F22</th>\n",
              "      <td>19913.000</td>\n",
              "      <td>4.569</td>\n",
              "      <td>4.740</td>\n",
              "      <td>1.000</td>\n",
              "      <td>1.000</td>\n",
              "      <td>3.000</td>\n",
              "      <td>7.000</td>\n",
              "      <td>21.000</td>\n",
              "    </tr>\n",
              "  </tbody>\n",
              "</table>\n",
              "</div>"
            ],
            "text/plain": [
              "        count          mean  ...            75%            max\n",
              "F1  19913.000         0.500  ...          0.749          1.000\n",
              "F2  19913.000         0.501  ...          0.752          1.000\n",
              "F3  19913.000         0.499  ...          0.750          1.000\n",
              "F4  19913.000         0.499  ...          0.749          1.000\n",
              "F5  19913.000        15.012  ...       5014.000      10000.000\n",
              "F6  19913.000       -71.674  ...       4861.000       9999.000\n",
              "F7  19913.000         2.344  ...       5019.000      10000.000\n",
              "F8  19913.000        11.676  ...       5027.000       9999.000\n",
              "F9  19913.000        60.424  ...       5118.000      10000.000\n",
              "F10 19913.000 -26420967.496  ... 4980296014.000 9998904094.000\n",
              "F11 19913.000  23946612.912  ... 5013506717.000 9999910943.000\n",
              "F12 19913.000 -46864946.505  ... 4952060766.000 9999915460.000\n",
              "F13 19913.000 -10336435.339  ... 4923297841.000 9999625519.000\n",
              "F14 19913.000   1763265.074  ... 4989646928.000 9999739030.000\n",
              "F17 19913.000         1.346  ...          1.000          6.000\n",
              "F18 19913.000         1.336  ...          1.000          6.000\n",
              "F19 19913.000       389.011  ...        561.000        901.000\n",
              "F20 19913.000       385.611  ...        559.000        901.000\n",
              "F21 19913.000         4.636  ...          7.000         21.000\n",
              "F22 19913.000         4.569  ...          7.000         21.000\n",
              "\n",
              "[20 rows x 8 columns]"
            ]
          },
          "metadata": {
            "tags": []
          },
          "execution_count": 9
        }
      ]
    },
    {
      "cell_type": "markdown",
      "metadata": {
        "id": "trgWlUdzFmOE",
        "colab_type": "text"
      },
      "source": [
        "Dropping duplicates and null values from dataset if any exits"
      ]
    },
    {
      "cell_type": "code",
      "metadata": {
        "id": "7T7giZgt_bQj",
        "colab_type": "code",
        "colab": {
          "base_uri": "https://localhost:8080/",
          "height": 36
        },
        "outputId": "ca6ae830-e35c-466e-eb81-6e73094241fd"
      },
      "source": [
        "train_data.drop_duplicates(inplace = True)\n",
        "train_data.dropna(inplace = True)\n",
        "train_data.shape"
      ],
      "execution_count": 10,
      "outputs": [
        {
          "output_type": "execute_result",
          "data": {
            "text/plain": [
              "(101180, 24)"
            ]
          },
          "metadata": {
            "tags": []
          },
          "execution_count": 10
        }
      ]
    },
    {
      "cell_type": "markdown",
      "metadata": {
        "id": "S8HGT03vFsl7",
        "colab_type": "text"
      },
      "source": [
        "Assumptions\n",
        "\n",
        "*   Dropping F15,F16 as it is date time column and not having any realtion of start day or end day \n",
        "*   Dropping F18,F20,F22 as it identical to another columns \n",
        "\n"
      ]
    },
    {
      "cell_type": "code",
      "metadata": {
        "id": "zxtMIm0yJT04",
        "colab_type": "code",
        "colab": {}
      },
      "source": [
        "train_data.drop(['F15','F16','F18','F20','F22','Index'],axis=1,inplace=True)\n",
        "test_data.drop(['F15','F16','F18','F20','F22','Index'],axis=1,inplace=True)"
      ],
      "execution_count": 11,
      "outputs": []
    },
    {
      "cell_type": "markdown",
      "metadata": {
        "id": "1iSBcLpDG07_",
        "colab_type": "text"
      },
      "source": [
        "Plotting correlation heatmap to get detailed correlation between all features "
      ]
    },
    {
      "cell_type": "code",
      "metadata": {
        "id": "Qjc0SUVeLBS2",
        "colab_type": "code",
        "colab": {
          "base_uri": "https://localhost:8080/",
          "height": 842
        },
        "outputId": "fae07b13-bd1e-46f7-d930-98313c1b748c"
      },
      "source": [
        "plt.figure(figsize=(20,15))\n",
        "plt=sns.heatmap(train_data.corr(), annot=True,cmap ='RdYlGn') "
      ],
      "execution_count": 12,
      "outputs": [
        {
          "output_type": "display_data",
          "data": {
            "image/png": "[encoded data removed]",
            "text/plain": [
              "<Figure size 1440x1080 with 2 Axes>"
            ]
          },
          "metadata": {
            "tags": []
          }
        }
      ]
    },
    {
      "cell_type": "markdown",
      "metadata": {
        "id": "gL4iaPYKH2SH",
        "colab_type": "text"
      },
      "source": [
        "Plotting histogram to check distibution of data"
      ]
    },
    {
      "cell_type": "code",
      "metadata": {
        "id": "DVaIpwjtRPCW",
        "colab_type": "code",
        "colab": {
          "base_uri": "https://localhost:8080/",
          "height": 760
        },
        "outputId": "95528579-e7a8-4e05-9ab9-42fd5a6373be"
      },
      "source": [
        "# plt.figure(figsize=(20,15))\n",
        "plt = train_data.hist(figsize=(20,15))"
      ],
      "execution_count": 13,
      "outputs": [
        {
          "output_type": "display_data",
          "data": {
            "image/png": "[encoded data removed]",
            "text/plain": [
              "<Figure size 1440x1080 with 20 Axes>"
            ]
          },
          "metadata": {
            "tags": []
          }
        }
      ]
    },
    {
      "cell_type": "markdown",
      "metadata": {
        "id": "EjF3JemuIVlP",
        "colab_type": "text"
      },
      "source": [
        "Plotting density plots to check gaussian distribustion of data"
      ]
    },
    {
      "cell_type": "code",
      "metadata": {
        "id": "iCpzCHWNUAE0",
        "colab_type": "code",
        "colab": {
          "base_uri": "https://localhost:8080/",
          "height": 268
        },
        "outputId": "232b6843-2cd4-4330-ba18-080e890f8947"
      },
      "source": [
        "ax = train_data[['F1','F2','F3','F4']].plot.kde()"
      ],
      "execution_count": 14,
      "outputs": [
        {
          "output_type": "display_data",
          "data": {
            "image/png": "[encoded data removed]",
            "text/plain": [
              "<Figure size 432x288 with 1 Axes>"
            ]
          },
          "metadata": {
            "tags": []
          }
        }
      ]
    },
    {
      "cell_type": "code",
      "metadata": {
        "id": "ArpbxBx1VnO2",
        "colab_type": "code",
        "colab": {
          "base_uri": "https://localhost:8080/",
          "height": 279
        },
        "outputId": "07f2c99c-ce06-4cd7-97f7-42634e008b88"
      },
      "source": [
        "ax = train_data[['F5','F6','F7','F8','F9']].plot.kde()"
      ],
      "execution_count": 15,
      "outputs": [
        {
          "output_type": "display_data",
          "data": {
            "image/png": "[encoded data removed]",
            "text/plain": [
              "<Figure size 432x288 with 1 Axes>"
            ]
          },
          "metadata": {
            "tags": []
          }
        }
      ]
    },
    {
      "cell_type": "code",
      "metadata": {
        "id": "hM5Y6-IFWOHo",
        "colab_type": "code",
        "colab": {
          "base_uri": "https://localhost:8080/",
          "height": 292
        },
        "outputId": "b1189117-016c-4ad8-e843-a3371e9ad3da"
      },
      "source": [
        "ax = train_data[['F10','F11','F12','F13','F14']].plot.kde()"
      ],
      "execution_count": 16,
      "outputs": [
        {
          "output_type": "display_data",
          "data": {
            "image/png": "[encoded data removed]",
            "text/plain": [
              "<Figure size 432x288 with 1 Axes>"
            ]
          },
          "metadata": {
            "tags": []
          }
        }
      ]
    },
    {
      "cell_type": "markdown",
      "metadata": {
        "id": "2Xp7GWA_IdpO",
        "colab_type": "text"
      },
      "source": [
        "The target class 'C' is having two classes 0,1.\n",
        "</br>\n",
        "From histogram it is visible that it is imbalanced distribution of classes.\n",
        "</br>\n",
        "So calculating the class weights and will be using that while training so the model is trained on balanced distribution of classes\n"
      ]
    },
    {
      "cell_type": "code",
      "metadata": {
        "id": "p7nPYbfoWrGR",
        "colab_type": "code",
        "colab": {
          "base_uri": "https://localhost:8080/",
          "height": 73
        },
        "outputId": "11f11786-a154-400d-93a4-56fdd030afb2"
      },
      "source": [
        "train_data['C'].value_counts()"
      ],
      "execution_count": 17,
      "outputs": [
        {
          "output_type": "execute_result",
          "data": {
            "text/plain": [
              "0    76353\n",
              "1    24827\n",
              "Name: C, dtype: int64"
            ]
          },
          "metadata": {
            "tags": []
          },
          "execution_count": 17
        }
      ]
    },
    {
      "cell_type": "code",
      "metadata": {
        "id": "-oRcBfeYYeaZ",
        "colab_type": "code",
        "colab": {
          "base_uri": "https://localhost:8080/",
          "height": 36
        },
        "outputId": "438425c3-868b-4c47-9f2e-3c723d8941c5"
      },
      "source": [
        "from sklearn.utils import class_weight\n",
        "class_weights = list(class_weight.compute_class_weight('balanced',\n",
        "                                             np.unique(train_data['C']),\n",
        "                                             train_data['C']))\n",
        "print('class_weights',class_weights)\n",
        "class_weights.sort()"
      ],
      "execution_count": 18,
      "outputs": [
        {
          "output_type": "stream",
          "text": [
            "class_weights [0.6625803832200438, 2.0377008901599067]\n"
          ],
          "name": "stdout"
        }
      ]
    },
    {
      "cell_type": "code",
      "metadata": {
        "id": "O_tZkCyliDT9",
        "colab_type": "code",
        "colab": {}
      },
      "source": [
        "weights = np.ones(train_data.shape[0], dtype = 'float')\n",
        "for i, val in enumerate(train_data['C']):\n",
        "  weights[i] = class_weights[val]"
      ],
      "execution_count": 19,
      "outputs": []
    },
    {
      "cell_type": "markdown",
      "metadata": {
        "id": "85u_EYN0JOwI",
        "colab_type": "text"
      },
      "source": [
        "Using standard scaler to scale all the features"
      ]
    },
    {
      "cell_type": "code",
      "metadata": {
        "id": "94IsCmsCiyfI",
        "colab_type": "code",
        "colab": {}
      },
      "source": [
        "def normalization(x):\n",
        "  scaler = StandardScaler().fit(x)\n",
        "  x_scaled = scaler.transform(x)\n",
        "  return x_scaled"
      ],
      "execution_count": 20,
      "outputs": []
    },
    {
      "cell_type": "code",
      "metadata": {
        "id": "vYCDy0ohKnVi",
        "colab_type": "code",
        "colab": {}
      },
      "source": [
        "features = ['F1', 'F2', 'F3', 'F4', 'F5', 'F6', 'F7', 'F8', 'F9', 'F10', 'F11',\n",
        "       'F12', 'F13', 'F14', 'F17', 'F19', 'F21']\n",
        "x = train_data[features]\n",
        "y = train_data['C']"
      ],
      "execution_count": 21,
      "outputs": []
    },
    {
      "cell_type": "code",
      "metadata": {
        "id": "hV5xdoTu48Uh",
        "colab_type": "code",
        "colab": {}
      },
      "source": [
        "train_norm = normalization(x)\n",
        "test_norm = normalization(test_data)\n",
        "\n",
        "train_norm_df = pd.DataFrame(train_norm,columns=features)\n",
        "test_norm_df = pd.DataFrame(test_data,columns=test_data.columns)"
      ],
      "execution_count": 22,
      "outputs": []
    },
    {
      "cell_type": "markdown",
      "metadata": {
        "id": "FhltEXTvY0Vj",
        "colab_type": "text"
      },
      "source": [
        "Splitting dataset in train and validation sets\n"
      ]
    },
    {
      "cell_type": "code",
      "metadata": {
        "id": "KUvqsfh6YzOp",
        "colab_type": "code",
        "colab": {}
      },
      "source": [
        "x_train,x_val,y_train,y_val = train_test_split(train_norm_df,y,random_state = 20,test_size = 0.2)"
      ],
      "execution_count": 23,
      "outputs": []
    },
    {
      "cell_type": "markdown",
      "metadata": {
        "id": "n1J5H_SIJZ8Z",
        "colab_type": "text"
      },
      "source": [
        "Splitting train dataset into dependent and independet features"
      ]
    },
    {
      "cell_type": "markdown",
      "metadata": {
        "id": "19zwgyaFgPLY",
        "colab_type": "text"
      },
      "source": [
        "## Approch-1 for training and selecting features\n"
      ]
    },
    {
      "cell_type": "markdown",
      "metadata": {
        "id": "0sWZqtF3JoLw",
        "colab_type": "text"
      },
      "source": [
        "Here I'm creating various batches of train and test data based on the density distribution and the combination of various features as train dataset.</br>\n",
        "As the data is not labeled for  picking the right features for model which gives the maximum accuracy while classfication might be the correct correct combination for recommendation system to predict next product."
      ]
    },
    {
      "cell_type": "code",
      "metadata": {
        "id": "blUdCzmYJ73J",
        "colab_type": "code",
        "colab": {}
      },
      "source": [
        "x_train_1 = x_train[['F1','F2','F3','F4']]\n",
        "x_val_1 = x_val[['F1','F2','F3','F4']]\n",
        "x_test_1 = test_norm_df[['F1','F2','F3','F4']]"
      ],
      "execution_count": 24,
      "outputs": []
    },
    {
      "cell_type": "code",
      "metadata": {
        "id": "7_BPUfON3zDq",
        "colab_type": "code",
        "colab": {}
      },
      "source": [
        "x_train_2 = x_train[['F5','F6','F7','F8','F9']]\n",
        "x_val_2 = x_val[['F5','F6','F7','F8','F9']]\n",
        "x_test_2 = test_norm_df[['F5','F6','F7','F8','F9']]"
      ],
      "execution_count": 25,
      "outputs": []
    },
    {
      "cell_type": "code",
      "metadata": {
        "id": "FQHx5rBJ4MFf",
        "colab_type": "code",
        "colab": {}
      },
      "source": [
        "x_train_3 = x_train[['F10','F11','F12','F13','F14']]\n",
        "x_val_3 = x_val[['F10','F11','F12','F13','F14']]\n",
        "x_test_3 = test_norm_df[['F10','F11','F12','F13','F14']]"
      ],
      "execution_count": 26,
      "outputs": []
    },
    {
      "cell_type": "code",
      "metadata": {
        "id": "0hg4NXT75ok7",
        "colab_type": "code",
        "colab": {}
      },
      "source": [
        "x_train_4 = x_train[['F5','F6','F7','F8','F9','F10','F11','F12','F13','F14']]\n",
        "x_val_4 = x_val[['F5','F6','F7','F8','F9','F10','F11','F12','F13','F14']]\n",
        "x_test_4 = test_norm_df[['F5','F6','F7','F8','F9','F10','F11','F12','F13','F14']]"
      ],
      "execution_count": 27,
      "outputs": []
    },
    {
      "cell_type": "code",
      "metadata": {
        "id": "w9wO62q09FMx",
        "colab_type": "code",
        "colab": {}
      },
      "source": [
        "x_train_5 = x_train[['F10','F11','F12','F13','F14','F1','F2','F3','F4']]\n",
        "x_val_5 = x_val[['F10','F11','F12','F13','F14','F1','F2','F3','F4']]\n",
        "x_test_5 = test_norm_df[['F10','F11','F12','F13','F14','F1','F2','F3','F4']]"
      ],
      "execution_count": 28,
      "outputs": []
    },
    {
      "cell_type": "markdown",
      "metadata": {
        "id": "HwntksD1Km-E",
        "colab_type": "text"
      },
      "source": [
        "Training the LightGBM model as the train data is less, Using neural network might overfit the model.\n",
        "So I'm using LightGBM with the best params for training model "
      ]
    },
    {
      "cell_type": "code",
      "metadata": {
        "id": "3dspAxas3DrI",
        "colab_type": "code",
        "colab": {}
      },
      "source": [
        "def training_lgb(x_train,x_test,x_val,y_train,y_val):\n",
        "\n",
        "  clf = lgb.LGBMClassifier(boosting_type='gbdt', num_leaves=76, \n",
        "                            max_depth=- 1, learning_rate=0.05, n_estimators=100, \n",
        "                            subsample_for_bin=200000, class_weight='balanced')\n",
        "  clf.fit(x_train, y_train)\n",
        "  # Cross validation for evaluation\n",
        "  cv = RepeatedStratifiedKFold(n_splits=10, n_repeats=3, random_state=1)\n",
        "  scores = cross_val_score(clf,x_train,y_train, scoring='roc_auc', cv=cv, n_jobs=-1)\n",
        "  \n",
        "  # ROC-AUC score and Accuracy on train data\n",
        "  print('Mean ROC AUC: %.5f' % mean(scores))\n",
        "  y_train_pred = clf.predict(x_train)\n",
        "  print('Training-set accuracy score: {0:0.4f}'. format(accuracy_score(y_train, y_train_pred)))\n",
        "  y_val_pred = clf.predict(x_val)\n",
        "  print('validation-set accuracy score: {0:0.4f}'. format(accuracy_score(y_val, y_val_pred)))\n",
        "  y_test_pred = clf.predict(x_test)\n",
        "  print(classification_report(y_val, y_val_pred))\n",
        "  return y_test_pred\n"
      ],
      "execution_count": 49,
      "outputs": []
    },
    {
      "cell_type": "markdown",
      "metadata": {
        "id": "bQruhsGsK651",
        "colab_type": "text"
      },
      "source": [
        "Calling training function with diffrent batches of features and calculating the accuracy"
      ]
    },
    {
      "cell_type": "code",
      "metadata": {
        "id": "YcDQdTtgscMn",
        "colab_type": "code",
        "colab": {
          "base_uri": "https://localhost:8080/",
          "height": 73
        },
        "outputId": "ca903018-6c8e-42c2-ed8b-30efbfd06571"
      },
      "source": [
        "import lightgbm as lgb\n",
        "from numpy import mean\n",
        "y_test_pred1 = training_lgb(x_train_1,x_test_1,x_val_1,y_train,y_val)"
      ],
      "execution_count": 30,
      "outputs": [
        {
          "output_type": "stream",
          "text": [
            "Mean ROC AUC: 0.52283\n",
            "Training-set accuracy score: 0.6138\n",
            "validation-set accuracy score: 0.5113\n"
          ],
          "name": "stdout"
        }
      ]
    },
    {
      "cell_type": "code",
      "metadata": {
        "id": "DQEglv-D4bFM",
        "colab_type": "code",
        "colab": {
          "base_uri": "https://localhost:8080/",
          "height": 73
        },
        "outputId": "6660b66b-743f-4260-f013-a98708a65d80"
      },
      "source": [
        "y_test_pred2 = training_lgb(x_train_2,x_test_2,x_val_2,y_train,y_val)"
      ],
      "execution_count": 31,
      "outputs": [
        {
          "output_type": "stream",
          "text": [
            "Mean ROC AUC: 0.50067\n",
            "Training-set accuracy score: 0.6560\n",
            "validation-set accuracy score: 0.5149\n"
          ],
          "name": "stdout"
        }
      ]
    },
    {
      "cell_type": "code",
      "metadata": {
        "id": "SKkMKLDT4a0e",
        "colab_type": "code",
        "colab": {
          "base_uri": "https://localhost:8080/",
          "height": 73
        },
        "outputId": "4f381f47-16de-4cc4-ec60-87012898bdbb"
      },
      "source": [
        "y_test_pred3 = training_lgb(x_train_3,x_test_3,x_val_3,y_train,y_val)"
      ],
      "execution_count": 32,
      "outputs": [
        {
          "output_type": "stream",
          "text": [
            "Mean ROC AUC: 0.55126\n",
            "Training-set accuracy score: 0.6825\n",
            "validation-set accuracy score: 0.5869\n"
          ],
          "name": "stdout"
        }
      ]
    },
    {
      "cell_type": "markdown",
      "metadata": {
        "id": "Bh563lLmMIC3",
        "colab_type": "text"
      },
      "source": [
        "Train_4,Test_4 is having highest accuracy than other combinaotion of features.\n",
        "</br>\n",
        "'F5','F6','F7','F8','F9',\n",
        "'F10','F11','F12','F13','F14' are best features to predict the next product for recommendation system."
      ]
    },
    {
      "cell_type": "code",
      "metadata": {
        "id": "aPRb3Nyh5zjt",
        "colab_type": "code",
        "colab": {
          "base_uri": "https://localhost:8080/",
          "height": 403
        },
        "outputId": "a3222e2f-c1fc-4edb-93d9-76e43e9e4c3a"
      },
      "source": [
        "y_test_pred4 = training_lgb(x_train_4,x_test_4,x_val_4,y_train,y_val)"
      ],
      "execution_count": 50,
      "outputs": [
        {
          "output_type": "stream",
          "text": [
            "Mean ROC AUC: 0.55218\n",
            "Training-set accuracy score: 0.7089\n",
            "validation-set accuracy score: 0.5792\n"
          ],
          "name": "stdout"
        },
        {
          "output_type": "error",
          "ename": "ValueError",
          "evalue": "ignored",
          "traceback": [
            "\u001b[0;31m---------------------------------------------------------------------------\u001b[0m",
            "\u001b[0;31mValueError\u001b[0m                                Traceback (most recent call last)",
            "\u001b[0;32m<ipython-input-50-088257b0119d>\u001b[0m in \u001b[0;36m<module>\u001b[0;34m()\u001b[0m\n\u001b[0;32m----> 1\u001b[0;31m \u001b[0my_test_pred4\u001b[0m \u001b[0;34m=\u001b[0m \u001b[0mtraining_lgb\u001b[0m\u001b[0;34m(\u001b[0m\u001b[0mx_train_4\u001b[0m\u001b[0;34m,\u001b[0m\u001b[0mx_test_4\u001b[0m\u001b[0;34m,\u001b[0m\u001b[0mx_val_4\u001b[0m\u001b[0;34m,\u001b[0m\u001b[0my_train\u001b[0m\u001b[0;34m,\u001b[0m\u001b[0my_val\u001b[0m\u001b[0;34m)\u001b[0m\u001b[0;34m\u001b[0m\u001b[0;34m\u001b[0m\u001b[0m\n\u001b[0m",
            "\u001b[0;32m<ipython-input-49-633411418fd5>\u001b[0m in \u001b[0;36mtraining_lgb\u001b[0;34m(x_train, x_test, x_val, y_train, y_val)\u001b[0m\n\u001b[1;32m     15\u001b[0m   \u001b[0my_val_pred\u001b[0m \u001b[0;34m=\u001b[0m \u001b[0mclf\u001b[0m\u001b[0;34m.\u001b[0m\u001b[0mpredict\u001b[0m\u001b[0;34m(\u001b[0m\u001b[0mx_val\u001b[0m\u001b[0;34m)\u001b[0m\u001b[0;34m\u001b[0m\u001b[0;34m\u001b[0m\u001b[0m\n\u001b[1;32m     16\u001b[0m   \u001b[0mprint\u001b[0m\u001b[0;34m(\u001b[0m\u001b[0;34m'validation-set accuracy score: {0:0.4f}'\u001b[0m\u001b[0;34m.\u001b[0m \u001b[0mformat\u001b[0m\u001b[0;34m(\u001b[0m\u001b[0maccuracy_score\u001b[0m\u001b[0;34m(\u001b[0m\u001b[0my_val\u001b[0m\u001b[0;34m,\u001b[0m \u001b[0my_val_pred\u001b[0m\u001b[0;34m)\u001b[0m\u001b[0;34m)\u001b[0m\u001b[0;34m)\u001b[0m\u001b[0;34m\u001b[0m\u001b[0;34m\u001b[0m\u001b[0m\n\u001b[0;32m---> 17\u001b[0;31m   \u001b[0my_test_pred\u001b[0m \u001b[0;34m=\u001b[0m \u001b[0mclf\u001b[0m\u001b[0;34m.\u001b[0m\u001b[0mpredict\u001b[0m\u001b[0;34m(\u001b[0m\u001b[0mx_test\u001b[0m\u001b[0;34m)\u001b[0m\u001b[0;34m\u001b[0m\u001b[0;34m\u001b[0m\u001b[0m\n\u001b[0m\u001b[1;32m     18\u001b[0m   \u001b[0mprint\u001b[0m\u001b[0;34m(\u001b[0m\u001b[0mclassification_report\u001b[0m\u001b[0;34m(\u001b[0m\u001b[0my_val\u001b[0m\u001b[0;34m,\u001b[0m \u001b[0my_val_pred\u001b[0m\u001b[0;34m)\u001b[0m\u001b[0;34m)\u001b[0m\u001b[0;34m\u001b[0m\u001b[0;34m\u001b[0m\u001b[0m\n\u001b[1;32m     19\u001b[0m   \u001b[0;32mreturn\u001b[0m \u001b[0my_test_pred\u001b[0m\u001b[0;34m\u001b[0m\u001b[0;34m\u001b[0m\u001b[0m\n",
            "\u001b[0;32m/usr/local/lib/python3.6/dist-packages/lightgbm/sklearn.py\u001b[0m in \u001b[0;36mpredict\u001b[0;34m(self, X, raw_score, num_iteration, pred_leaf, pred_contrib, **kwargs)\u001b[0m\n\u001b[1;32m    751\u001b[0m         \u001b[0;34m\"\"\"Docstring is inherited from the LGBMModel.\"\"\"\u001b[0m\u001b[0;34m\u001b[0m\u001b[0;34m\u001b[0m\u001b[0m\n\u001b[1;32m    752\u001b[0m         result = self.predict_proba(X, raw_score, num_iteration,\n\u001b[0;32m--> 753\u001b[0;31m                                     pred_leaf, pred_contrib, **kwargs)\n\u001b[0m\u001b[1;32m    754\u001b[0m         \u001b[0;32mif\u001b[0m \u001b[0mraw_score\u001b[0m \u001b[0;32mor\u001b[0m \u001b[0mpred_leaf\u001b[0m \u001b[0;32mor\u001b[0m \u001b[0mpred_contrib\u001b[0m\u001b[0;34m:\u001b[0m\u001b[0;34m\u001b[0m\u001b[0;34m\u001b[0m\u001b[0m\n\u001b[1;32m    755\u001b[0m             \u001b[0;32mreturn\u001b[0m \u001b[0mresult\u001b[0m\u001b[0;34m\u001b[0m\u001b[0;34m\u001b[0m\u001b[0m\n",
            "\u001b[0;32m/usr/local/lib/python3.6/dist-packages/lightgbm/sklearn.py\u001b[0m in \u001b[0;36mpredict_proba\u001b[0;34m(self, X, raw_score, num_iteration, pred_leaf, pred_contrib, **kwargs)\u001b[0m\n\u001b[1;32m    798\u001b[0m         \"\"\"\n\u001b[1;32m    799\u001b[0m         result = super(LGBMClassifier, self).predict(X, raw_score, num_iteration,\n\u001b[0;32m--> 800\u001b[0;31m                                                      pred_leaf, pred_contrib, **kwargs)\n\u001b[0m\u001b[1;32m    801\u001b[0m         \u001b[0;32mif\u001b[0m \u001b[0mself\u001b[0m\u001b[0;34m.\u001b[0m\u001b[0m_n_classes\u001b[0m \u001b[0;34m>\u001b[0m \u001b[0;36m2\u001b[0m \u001b[0;32mor\u001b[0m \u001b[0mraw_score\u001b[0m \u001b[0;32mor\u001b[0m \u001b[0mpred_leaf\u001b[0m \u001b[0;32mor\u001b[0m \u001b[0mpred_contrib\u001b[0m\u001b[0;34m:\u001b[0m\u001b[0;34m\u001b[0m\u001b[0;34m\u001b[0m\u001b[0m\n\u001b[1;32m    802\u001b[0m             \u001b[0;32mreturn\u001b[0m \u001b[0mresult\u001b[0m\u001b[0;34m\u001b[0m\u001b[0;34m\u001b[0m\u001b[0m\n",
            "\u001b[0;32m/usr/local/lib/python3.6/dist-packages/lightgbm/sklearn.py\u001b[0m in \u001b[0;36mpredict\u001b[0;34m(self, X, raw_score, num_iteration, pred_leaf, pred_contrib, **kwargs)\u001b[0m\n\u001b[1;32m    603\u001b[0m                              \u001b[0;34m\"match the input. Model n_features_ is %s and \"\u001b[0m\u001b[0;34m\u001b[0m\u001b[0;34m\u001b[0m\u001b[0m\n\u001b[1;32m    604\u001b[0m                              \u001b[0;34m\"input n_features is %s \"\u001b[0m\u001b[0;34m\u001b[0m\u001b[0;34m\u001b[0m\u001b[0m\n\u001b[0;32m--> 605\u001b[0;31m                              % (self._n_features, n_features))\n\u001b[0m\u001b[1;32m    606\u001b[0m         return self.booster_.predict(X, raw_score=raw_score, num_iteration=num_iteration,\n\u001b[1;32m    607\u001b[0m                                      pred_leaf=pred_leaf, pred_contrib=pred_contrib, **kwargs)\n",
            "\u001b[0;31mValueError\u001b[0m: Number of features of the model must match the input. Model n_features_ is 10 and input n_features is 11 "
          ]
        }
      ]
    },
    {
      "cell_type": "code",
      "metadata": {
        "id": "ut35okKzCdJV",
        "colab_type": "code",
        "colab": {}
      },
      "source": [
        ""
      ],
      "execution_count": null,
      "outputs": []
    },
    {
      "cell_type": "code",
      "metadata": {
        "id": "weV_dzlKNz-h",
        "colab_type": "code",
        "colab": {
          "base_uri": "https://localhost:8080/",
          "height": 205
        },
        "outputId": "ad23b51b-1b53-487c-97a5-e820c335de01"
      },
      "source": [
        "x_test_4['C'] = y_test_pred4\n",
        "x_test_4['C'].value_counts()"
      ],
      "execution_count": 34,
      "outputs": [
        {
          "output_type": "stream",
          "text": [
            "/usr/local/lib/python3.6/dist-packages/ipykernel_launcher.py:1: SettingWithCopyWarning: \n",
            "A value is trying to be set on a copy of a slice from a DataFrame.\n",
            "Try using .loc[row_indexer,col_indexer] = value instead\n",
            "\n",
            "See the caveats in the documentation: https://pandas.pydata.org/pandas-docs/stable/user_guide/indexing.html#returning-a-view-versus-a-copy\n",
            "  \"\"\"Entry point for launching an IPython kernel.\n"
          ],
          "name": "stderr"
        },
        {
          "output_type": "execute_result",
          "data": {
            "text/plain": [
              "0    18421\n",
              "1     1492\n",
              "Name: C, dtype: int64"
            ]
          },
          "metadata": {
            "tags": []
          },
          "execution_count": 34
        }
      ]
    },
    {
      "cell_type": "code",
      "metadata": {
        "id": "N_q3IYs5Qtg7",
        "colab_type": "code",
        "colab": {}
      },
      "source": [
        "# x_test_4.to_csv(\"test_predictions.csv\", header=True)"
      ],
      "execution_count": 35,
      "outputs": []
    },
    {
      "cell_type": "code",
      "metadata": {
        "id": "2X-mWNvT9dwU",
        "colab_type": "code",
        "colab": {
          "base_uri": "https://localhost:8080/",
          "height": 73
        },
        "outputId": "5a76ba23-b3b3-4f0e-d548-61d4505cd714"
      },
      "source": [
        "y_test_pred5 = training_lgb(x_train_5,x_test_5,x_val_5,y_train,y_val)"
      ],
      "execution_count": 36,
      "outputs": [
        {
          "output_type": "stream",
          "text": [
            "Mean ROC AUC: 0.56511\n",
            "Training-set accuracy score: 0.6749\n",
            "validation-set accuracy score: 0.5636\n"
          ],
          "name": "stdout"
        }
      ]
    },
    {
      "cell_type": "code",
      "metadata": {
        "id": "RUtWWUcT5zYV",
        "colab_type": "code",
        "colab": {
          "base_uri": "https://localhost:8080/",
          "height": 73
        },
        "outputId": "55e2ad9d-ec67-461b-b1fe-7773e39b2637"
      },
      "source": [
        "x_test = test_norm_df\n",
        "y_test_pred = training_lgb(x_train,x_test,x_val,y_train,y_val)"
      ],
      "execution_count": 38,
      "outputs": [
        {
          "output_type": "stream",
          "text": [
            "Mean ROC AUC: 0.64131\n",
            "Training-set accuracy score: 0.5600\n",
            "validation-set accuracy score: 0.5020\n"
          ],
          "name": "stdout"
        }
      ]
    },
    {
      "cell_type": "markdown",
      "metadata": {
        "id": "w0dJFfjWlt9o",
        "colab_type": "text"
      },
      "source": [
        "## Approch-2 for training and feature selection "
      ]
    },
    {
      "cell_type": "code",
      "metadata": {
        "id": "gj9Y6hvzlnpZ",
        "colab_type": "code",
        "colab": {
          "base_uri": "https://localhost:8080/",
          "height": 166
        },
        "outputId": "dc5a554e-078f-4801-9beb-d9eff1d7e804"
      },
      "source": [
        "from sklearn.ensemble import ExtraTreesClassifier\n",
        "model=ExtraTreesClassifier()\n",
        "model.fit(x,y)"
      ],
      "execution_count": 40,
      "outputs": [
        {
          "output_type": "execute_result",
          "data": {
            "text/plain": [
              "ExtraTreesClassifier(bootstrap=False, ccp_alpha=0.0, class_weight=None,\n",
              "                     criterion='gini', max_depth=None, max_features='auto',\n",
              "                     max_leaf_nodes=None, max_samples=None,\n",
              "                     min_impurity_decrease=0.0, min_impurity_split=None,\n",
              "                     min_samples_leaf=1, min_samples_split=2,\n",
              "                     min_weight_fraction_leaf=0.0, n_estimators=100,\n",
              "                     n_jobs=None, oob_score=False, random_state=None, verbose=0,\n",
              "                     warm_start=False)"
            ]
          },
          "metadata": {
            "tags": []
          },
          "execution_count": 40
        }
      ]
    },
    {
      "cell_type": "code",
      "metadata": {
        "id": "F4QAS2VO-Hru",
        "colab_type": "code",
        "colab": {
          "base_uri": "https://localhost:8080/",
          "height": 408
        },
        "outputId": "d72a4706-ee00-47aa-d4bc-6b24ca6ab7b3"
      },
      "source": [
        "print(model.feature_importances_)\n",
        "ranked_features = pd.Series(model.feature_importances_,index=x.columns)\n",
        "ranked_features"
      ],
      "execution_count": 46,
      "outputs": [
        {
          "output_type": "stream",
          "text": [
            "[0.06100517 0.06182042 0.06097607 0.06230451 0.0607109  0.06062213\n",
            " 0.06066558 0.06089373 0.06091094 0.06084356 0.06092914 0.06081849\n",
            " 0.06106044 0.06167955 0.02455445 0.07425249 0.04595244]\n"
          ],
          "name": "stdout"
        },
        {
          "output_type": "execute_result",
          "data": {
            "text/plain": [
              "F1    0.061\n",
              "F2    0.062\n",
              "F3    0.061\n",
              "F4    0.062\n",
              "F5    0.061\n",
              "F6    0.061\n",
              "F7    0.061\n",
              "F8    0.061\n",
              "F9    0.061\n",
              "F10   0.061\n",
              "F11   0.061\n",
              "F12   0.061\n",
              "F13   0.061\n",
              "F14   0.062\n",
              "F17   0.025\n",
              "F19   0.074\n",
              "F21   0.046\n",
              "dtype: float64"
            ]
          },
          "metadata": {
            "tags": []
          },
          "execution_count": 46
        }
      ]
    },
    {
      "cell_type": "code",
      "metadata": {
        "id": "raBDuKKp-I7S",
        "colab_type": "code",
        "colab": {
          "base_uri": "https://localhost:8080/",
          "height": 444
        },
        "outputId": "47234fe4-c94d-4d51-d991-e89586532b25"
      },
      "source": [
        "plt = ranked_features.nlargest(18).plot(kind='barh')\n",
        "plt.show() "
      ],
      "execution_count": 47,
      "outputs": [
        {
          "output_type": "error",
          "ename": "AttributeError",
          "evalue": "ignored",
          "traceback": [
            "\u001b[0;31m---------------------------------------------------------------------------\u001b[0m",
            "\u001b[0;31mAttributeError\u001b[0m                            Traceback (most recent call last)",
            "\u001b[0;32m<ipython-input-47-dc56071905c8>\u001b[0m in \u001b[0;36m<module>\u001b[0;34m()\u001b[0m\n\u001b[1;32m      1\u001b[0m \u001b[0mplt\u001b[0m \u001b[0;34m=\u001b[0m \u001b[0mranked_features\u001b[0m\u001b[0;34m.\u001b[0m\u001b[0mnlargest\u001b[0m\u001b[0;34m(\u001b[0m\u001b[0;36m18\u001b[0m\u001b[0;34m)\u001b[0m\u001b[0;34m.\u001b[0m\u001b[0mplot\u001b[0m\u001b[0;34m(\u001b[0m\u001b[0mkind\u001b[0m\u001b[0;34m=\u001b[0m\u001b[0;34m'barh'\u001b[0m\u001b[0;34m)\u001b[0m\u001b[0;34m\u001b[0m\u001b[0;34m\u001b[0m\u001b[0m\n\u001b[0;32m----> 2\u001b[0;31m \u001b[0mplt\u001b[0m\u001b[0;34m.\u001b[0m\u001b[0mshow\u001b[0m\u001b[0;34m(\u001b[0m\u001b[0;34m)\u001b[0m\u001b[0;34m\u001b[0m\u001b[0;34m\u001b[0m\u001b[0m\n\u001b[0m",
            "\u001b[0;31mAttributeError\u001b[0m: 'AxesSubplot' object has no attribute 'show'"
          ]
        },
        {
          "output_type": "display_data",
          "data": {
            "image/png": "[encoded data removed]",
            "text/plain": [
              "<Figure size 432x288 with 1 Axes>"
            ]
          },
          "metadata": {
            "tags": []
          }
        }
      ]
    },
    {
      "cell_type": "code",
      "metadata": {
        "id": "3wPMCOwB-YdR",
        "colab_type": "code",
        "colab": {
          "base_uri": "https://localhost:8080/",
          "height": 73
        },
        "outputId": "cd54800a-7006-4e1b-c345-c53cfe3bfac0"
      },
      "source": [
        "clf = lgb.LGBMClassifier()\n",
        "clf.fit(x_train, y_train)\n",
        "# Cross validation for evaluation\n",
        "cv = RepeatedStratifiedKFold(n_splits=10, n_repeats=3, random_state=1)\n",
        "scores = cross_val_score(clf,x_train,y_train, scoring='roc_auc', cv=cv, n_jobs=-1)\n",
        "\n",
        "# ROC-AUC score and Accuracy on train data\n",
        "print('Mean ROC AUC: %.5f' % mean(scores))\n",
        "y_train_pred = clf.predict(x_train)\n",
        "print('Training-set accuracy score: {0:0.4f}'. format(accuracy_score(y_train, y_train_pred)))\n",
        "y_val_pred = clf.predict(x_val)\n",
        "print('validation-set accuracy score: {0:0.4f}'. format(accuracy_score(y_val, y_val_pred)))\n",
        "y_test_pred = clf.predict(x_test)"
      ],
      "execution_count": 48,
      "outputs": [
        {
          "output_type": "stream",
          "text": [
            "Mean ROC AUC: 0.64235\n",
            "Training-set accuracy score: 0.7619\n",
            "validation-set accuracy score: 0.7559\n"
          ],
          "name": "stdout"
        }
      ]
    },
    {
      "cell_type": "code",
      "metadata": {
        "id": "zAw9qZ4SGCsQ",
        "colab_type": "code",
        "colab": {
          "base_uri": "https://localhost:8080/",
          "height": 185
        },
        "outputId": "5aaf8707-09b6-4377-baa0-b3587b670ce3"
      },
      "source": [
        "print(classification_report(y_val, y_val_pred))"
      ],
      "execution_count": 51,
      "outputs": [
        {
          "output_type": "stream",
          "text": [
            "              precision    recall  f1-score   support\n",
            "\n",
            "           0       0.76      1.00      0.86     15221\n",
            "           1       0.74      0.02      0.05      5015\n",
            "\n",
            "    accuracy                           0.76     20236\n",
            "   macro avg       0.75      0.51      0.45     20236\n",
            "weighted avg       0.75      0.76      0.66     20236\n",
            "\n"
          ],
          "name": "stdout"
        }
      ]
    }
  ]
}